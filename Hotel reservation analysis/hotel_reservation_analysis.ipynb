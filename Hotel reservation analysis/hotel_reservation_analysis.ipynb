{
 "cells": [
  {
   "cell_type": "code",
   "execution_count": 2,
   "id": "911c8a39-65aa-4e32-9955-1b24964c7071",
   "metadata": {},
   "outputs": [],
   "source": [
    "import csv\n",
    "import pandas as pd\n",
    "import numpy as np\n",
    "import sqlite3"
   ]
  },
  {
   "cell_type": "code",
   "execution_count": 3,
   "id": "f90a19de-cf27-463e-b018-d6cd1db6ece6",
   "metadata": {},
   "outputs": [
    {
     "data": {
      "text/plain": [
       "700"
      ]
     },
     "execution_count": 3,
     "metadata": {},
     "output_type": "execute_result"
    }
   ],
   "source": [
    "# Read csv file and save it as a dataframe\n",
    "df = pd.read_csv('Hotel Reservation Dataset.csv')\n",
    "\n",
    "# Create a sqlite3 database called hotel_reservation.db\n",
    "conn = sqlite3.connect('hotel_reservation.db')\n",
    "\n",
    "# Adjust arrival_date column to be of type date\n",
    "df['arrival_date'] = pd.to_datetime(df['arrival_date'], format='%d-%m-%Y')\n",
    "\n",
    "# Load dataframe to sqlite3\n",
    "df.to_sql('hotel_reservation_table', conn, if_exists='replace')"
   ]
  },
  {
   "cell_type": "code",
   "execution_count": 4,
   "id": "f9eaa3ce-3d26-4efd-a09e-92e559ed077d",
   "metadata": {},
   "outputs": [
    {
     "name": "stdout",
     "output_type": "stream",
     "text": [
      "   total_num_reservation\n",
      "0                    700\n"
     ]
    }
   ],
   "source": [
    "# Q1: What is the total number of reservations in the dataset?\n",
    "\n",
    "total_num_reservation_query = '''\n",
    "SELECT COUNT(*) as total_num_reservation\n",
    "FROM hotel_reservation_table;\n",
    "'''\n",
    "\n",
    "total_num_reservation_results = pd.read_sql_query(total_num_reservation_query, conn)\n",
    "print(total_num_reservation_results)"
   ]
  },
  {
   "cell_type": "code",
   "execution_count": 5,
   "id": "5998a0ba-a912-48cd-9410-54ac48e4dcdc",
   "metadata": {},
   "outputs": [
    {
     "name": "stdout",
     "output_type": "stream",
     "text": [
      "  type_of_meal_plan  count\n",
      "0       Meal Plan 1    527\n"
     ]
    }
   ],
   "source": [
    "# Q2: Which meal plan is the most popular among guests?\n",
    "\n",
    "most_pop_meal_query = '''\n",
    "SELECT type_of_meal_plan, COUNT(*) AS count\n",
    "FROM hotel_reservation_table\n",
    "GROUP BY type_of_meal_plan\n",
    "ORDER BY count DESC\n",
    "LIMIT 1;\n",
    "'''\n",
    "\n",
    "most_pop_meal_results = pd.read_sql_query(most_pop_meal_query, conn)\n",
    "print(most_pop_meal_results)"
   ]
  },
  {
   "cell_type": "code",
   "execution_count": 6,
   "id": "0f4b79f2-f8a8-4eda-95b8-5edf03e90f95",
   "metadata": {},
   "outputs": [
    {
     "name": "stdout",
     "output_type": "stream",
     "text": [
      "   avg_price_room_with_children\n",
      "0                    144.568333\n"
     ]
    }
   ],
   "source": [
    "# Q3: What is the average price per room for reservations involving children?\n",
    "\n",
    "avg_price_per_room_children_query = '''\n",
    "SELECT AVG(avg_price_per_room) AS avg_price_room_with_children\n",
    "FROM hotel_reservation_table\n",
    "WHERE no_of_children > 0;\n",
    "'''\n",
    "\n",
    "avg_price_per_room_children_results = pd.read_sql_query(avg_price_per_room_children_query, conn)\n",
    "print(avg_price_per_room_children_results)"
   ]
  },
  {
   "cell_type": "code",
   "execution_count": 7,
   "id": "d70a2a9b-c49a-4e32-8063-2eb63c665271",
   "metadata": {},
   "outputs": [
    {
     "name": "stdout",
     "output_type": "stream",
     "text": [
      "   reservations_for_2018\n",
      "0                    577\n"
     ]
    }
   ],
   "source": [
    "# Q4: How many reservations were made for the year 20XX (replace XX with the desired year)?\n",
    "\n",
    "reservations_2018_query = '''\n",
    "SELECT COUNT(*) AS reservations_for_2018\n",
    "FROM hotel_reservation_table\n",
    "WHERE strftime('%Y', arrival_date) = '2018';\n",
    "'''\n",
    "\n",
    "reservations_2018_results = pd.read_sql_query(reservations_2018_query, conn)\n",
    "print(reservations_2018_results)"
   ]
  },
  {
   "cell_type": "code",
   "execution_count": 8,
   "id": "e3af946a-9053-4066-9402-cdec836fc002",
   "metadata": {},
   "outputs": [
    {
     "name": "stdout",
     "output_type": "stream",
     "text": [
      "  room_type_reserved  count\n",
      "0        Room_Type 1    534\n"
     ]
    }
   ],
   "source": [
    "# Q5: What is the most commonly booked room type?\n",
    "\n",
    "most_booked_room_query = '''\n",
    "SELECT room_type_reserved, COUNT(*) AS count\n",
    "FROM hotel_reservation_table\n",
    "GROUP BY room_type_reserved\n",
    "ORDER BY count DESC\n",
    "LIMIT 1;\n",
    "'''\n",
    "\n",
    "most_booked_room_results = pd.read_sql_query(most_booked_room_query, conn)\n",
    "print(most_booked_room_results)"
   ]
  },
  {
   "cell_type": "code",
   "execution_count": 9,
   "id": "f65e81be-760e-43e9-80dd-89fe19cf3b75",
   "metadata": {},
   "outputs": [
    {
     "name": "stdout",
     "output_type": "stream",
     "text": [
      "   weekend_reservations\n",
      "0                   383\n"
     ]
    }
   ],
   "source": [
    "# Q6: How many reservations fall on a weekend (no_of_weekend_nights > 0)?\n",
    "\n",
    "weekend_reservations_query = '''\n",
    "SELECT COUNT(*) AS weekend_reservations\n",
    "FROM hotel_reservation_table\n",
    "WHERE no_of_weekend_nights > 0;\n",
    "'''\n",
    "\n",
    "weekend_reservations_results = pd.read_sql_query(weekend_reservations_query, conn)\n",
    "print(weekend_reservations_results)"
   ]
  },
  {
   "cell_type": "code",
   "execution_count": 10,
   "id": "afa3be29-5448-46ac-a567-ecb0aeaca951",
   "metadata": {},
   "outputs": [
    {
     "name": "stdout",
     "output_type": "stream",
     "text": [
      "   highest_lead_time  lowest_lead_time\n",
      "0                443                 0\n"
     ]
    }
   ],
   "source": [
    "# Q7: What is the highest and lowest lead time for reservations?\n",
    "\n",
    "highest_lowest_leadtime_query = '''\n",
    "SELECT MAX(lead_time) AS highest_lead_time, MIN(lead_time) AS lowest_lead_time\n",
    "FROM hotel_reservation_table;\n",
    "'''\n",
    "\n",
    "highest_lowest_leadtime_results = pd.read_sql_query(highest_lowest_leadtime_query, conn)\n",
    "print(highest_lowest_leadtime_results)"
   ]
  },
  {
   "cell_type": "code",
   "execution_count": 11,
   "id": "72da481a-9429-4d91-9864-26cd54ea92d4",
   "metadata": {},
   "outputs": [
    {
     "name": "stdout",
     "output_type": "stream",
     "text": [
      "  market_segment_type  count\n",
      "0              Online    518\n"
     ]
    }
   ],
   "source": [
    "# Q8: What is the most common market segment type for reservations?\n",
    "\n",
    "highest_lowest_leadtime_query = '''\n",
    "SELECT market_segment_type, COUNT(*) AS count\n",
    "FROM hotel_reservation_table\n",
    "GROUP BY market_segment_type\n",
    "ORDER BY count DESC\n",
    "LIMIT 1;\n",
    "'''\n",
    "\n",
    "highest_lowest_leadtime_results = pd.read_sql_query(highest_lowest_leadtime_query, conn)\n",
    "print(highest_lowest_leadtime_results)"
   ]
  },
  {
   "cell_type": "code",
   "execution_count": 12,
   "id": "92691355-d01e-40e1-9fa9-5875c1e9ddac",
   "metadata": {},
   "outputs": [
    {
     "name": "stdout",
     "output_type": "stream",
     "text": [
      "   confirmed_booking\n",
      "0                  0\n"
     ]
    }
   ],
   "source": [
    "# Q9: How many reservations have a booking status of \"Confirmed\"?\n",
    "\n",
    "booking_confirmed_query = '''\n",
    "SELECT COUNT(*) AS confirmed_booking\n",
    "FROM hotel_reservation_table\n",
    "WHERE booking_status = 'Confirmed';\n",
    "'''\n",
    "\n",
    "booking_confirmed_results = pd.read_sql_query(booking_confirmed_query, conn)\n",
    "print(booking_confirmed_results)"
   ]
  },
  {
   "cell_type": "code",
   "execution_count": 13,
   "id": "faf5bb68-72da-491e-9fb2-86d743d84a33",
   "metadata": {},
   "outputs": [
    {
     "name": "stdout",
     "output_type": "stream",
     "text": [
      "   num_adults  num_children\n",
      "0        1316            69\n"
     ]
    }
   ],
   "source": [
    "# Q10: What is the total number of adults and children across all reservations?\n",
    "\n",
    "num_adults_children_query = '''\n",
    "SELECT SUM(no_of_adults) AS num_adults, SUM(no_of_children) AS num_children\n",
    "FROM hotel_reservation_table;\n",
    "'''\n",
    "\n",
    "num_adults_children_results = pd.read_sql_query(num_adults_children_query, conn)\n",
    "print(num_adults_children_results)"
   ]
  },
  {
   "cell_type": "code",
   "execution_count": 14,
   "id": "333835ac-cb39-4b61-a6b9-aeee762f63f3",
   "metadata": {},
   "outputs": [
    {
     "name": "stdout",
     "output_type": "stream",
     "text": [
      "   avg_weekend_nights_with_children\n",
      "0                               1.0\n"
     ]
    }
   ],
   "source": [
    "# Q11: What is the average number of weekend nights for reservations involving children?\n",
    "\n",
    "avg_num_week_children_night_query = '''\n",
    "SELECT AVG(no_of_weekend_nights) AS avg_weekend_nights_with_children\n",
    "FROM hotel_reservation_table\n",
    "WHERE no_of_children > 0;\n",
    "'''\n",
    "\n",
    "avg_num_week_children_night_results = pd.read_sql_query(avg_num_week_children_night_query, conn)\n",
    "print(avg_num_week_children_night_results)"
   ]
  },
  {
   "cell_type": "code",
   "execution_count": 15,
   "id": "0bb9dca4-5b9b-4acb-b2c1-f2d694154973",
   "metadata": {},
   "outputs": [
    {
     "name": "stdout",
     "output_type": "stream",
     "text": [
      "   month  num_reservations\n",
      "0     01                11\n",
      "1     02                28\n",
      "2     03                52\n",
      "3     04                67\n",
      "4     05                55\n",
      "5     06                84\n",
      "6     07                44\n",
      "7     08                70\n",
      "8     09                80\n",
      "9     10               103\n",
      "10    11                54\n",
      "11    12                52\n"
     ]
    }
   ],
   "source": [
    "# Q12: How many reservations were made in each month of the year?\n",
    "\n",
    "num_reservations_each_month_query = '''\n",
    "SELECT strftime('%m', arrival_date) AS month, COUNT(*) AS num_reservations\n",
    "FROM hotel_reservation_table\n",
    "GROUP BY month\n",
    "ORDER BY month;\n",
    "'''\n",
    "\n",
    "num_reservations_each_month_results = pd.read_sql_query(num_reservations_each_month_query, conn)\n",
    "print(num_reservations_each_month_results)"
   ]
  },
  {
   "cell_type": "code",
   "execution_count": 16,
   "id": "23d8d3ca-6f97-4bbb-8f54-103856a41c38",
   "metadata": {},
   "outputs": [
    {
     "name": "stdout",
     "output_type": "stream",
     "text": [
      "  room_type_reserved  avg_nights\n",
      "0        Room_Type 1    2.878277\n",
      "1        Room_Type 2    3.000000\n",
      "2        Room_Type 4    3.800000\n",
      "3        Room_Type 5    2.500000\n",
      "4        Room_Type 6    3.611111\n",
      "5        Room_Type 7    2.666667\n"
     ]
    }
   ],
   "source": [
    "# Q13: What is the average number of nights (both weekend and weekday) spent by guests for each room type?\n",
    "\n",
    "avg_num_nights_query = '''\n",
    "SELECT room_type_reserved, \n",
    "AVG(no_of_weekend_nights + no_of_week_nights) AS avg_nights\n",
    "FROM hotel_reservation_table\n",
    "GROUP BY room_type_reserved;\n",
    "'''\n",
    "\n",
    "avg_num_nights_results = pd.read_sql_query(avg_num_nights_query, conn)\n",
    "print(avg_num_nights_results)"
   ]
  },
  {
   "cell_type": "code",
   "execution_count": 17,
   "id": "320c0699-0b85-48f2-b40f-b2d4eef9d3a0",
   "metadata": {},
   "outputs": [
    {
     "name": "stdout",
     "output_type": "stream",
     "text": [
      "  room_type_reserved  count  avg_price_for_room\n",
      "0        Room_Type 1     24          123.122917\n"
     ]
    }
   ],
   "source": [
    "# Q14: For reservations involving children, what is the most common room type, and what is the average price for that room type?\n",
    "\n",
    "most_common_room_type_query = '''\n",
    "SELECT room_type_reserved, COUNT(*) AS count, AVG(avg_price_per_room) AS avg_price_for_room\n",
    "FROM hotel_reservation_table\n",
    "WHERE no_of_children > 0\n",
    "GROUP BY room_type_reserved\n",
    "ORDER BY count DESC\n",
    "LIMIT 1;\n",
    "'''\n",
    "\n",
    "most_common_room_type_results = pd.read_sql_query(most_common_room_type_query, conn)\n",
    "print(most_common_room_type_results)"
   ]
  },
  {
   "cell_type": "code",
   "execution_count": 17,
   "id": "82882834-bdb0-4f0c-9851-17ab181f8f6f",
   "metadata": {},
   "outputs": [
    {
     "name": "stdout",
     "output_type": "stream",
     "text": [
      "  market_segment_type  highest_avg_price_per_room\n",
      "0              Online                  112.455212\n"
     ]
    }
   ],
   "source": [
    "# Q15: Find the market segment type that generates the highest average price per room.\n",
    "\n",
    "market_segment_with_highest_avg_price_query = '''\n",
    "SELECT market_segment_type, AVG(avg_price_per_room) AS highest_avg_price_per_room\n",
    "FROM hotel_reservation_table\n",
    "GROUP BY market_segment_type\n",
    "ORDER BY highest_avg_price_per_room DESC\n",
    "LIMIT 1;\n",
    "'''\n",
    "\n",
    "market_segment_with_highest_avg_price_results = pd.read_sql_query(market_segment_with_highest_avg_price_query, conn)\n",
    "print(market_segment_with_highest_avg_price_results)"
   ]
  }
 ],
 "metadata": {
  "kernelspec": {
   "display_name": "Python 3 (ipykernel)",
   "language": "python",
   "name": "python3"
  },
  "language_info": {
   "codemirror_mode": {
    "name": "ipython",
    "version": 3
   },
   "file_extension": ".py",
   "mimetype": "text/x-python",
   "name": "python",
   "nbconvert_exporter": "python",
   "pygments_lexer": "ipython3",
   "version": "3.12.3"
  }
 },
 "nbformat": 4,
 "nbformat_minor": 5
}
